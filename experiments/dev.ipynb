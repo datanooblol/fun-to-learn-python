{
 "cells": [
  {
   "cell_type": "code",
   "execution_count": 9,
   "id": "cd9ea2da",
   "metadata": {},
   "outputs": [
    {
     "data": {
      "text/plain": [
       "3.0"
      ]
     },
     "execution_count": 9,
     "metadata": {},
     "output_type": "execute_result"
    }
   ],
   "source": [
    "class Pipe:\n",
    "    def __init__(self, value):\n",
    "        self.value = value\n",
    "    \n",
    "    def __rshift__(self, func):\n",
    "        return Pipe(func(self.value))\n",
    "    \n",
    "    def __or__(self, func):\n",
    "        return Pipe(func(self.value))\n",
    "    \n",
    "# pipe = Pipe([1,2,3]) >> sum >> (lambda x: x/2)\n",
    "pipe = Pipe([1,2,3]) | sum | (lambda x: x/2)\n",
    "pipe.value"
   ]
  },
  {
   "cell_type": "code",
   "execution_count": 10,
   "id": "a812eac1",
   "metadata": {},
   "outputs": [],
   "source": [
    "class Pipe:\n",
    "    def __init__(self, funcs:list):\n",
    "        self.funcs = funcs or []\n",
    "\n",
    "    def run(self, value):\n",
    "        result = value\n",
    "        for func in self.funcs:\n",
    "            result = func(result)\n",
    "        return result"
   ]
  },
  {
   "cell_type": "code",
   "execution_count": 13,
   "id": "a7d99cab",
   "metadata": {},
   "outputs": [
    {
     "data": {
      "text/plain": [
       "array([0.        , 1.73286795, 2.74653072])"
      ]
     },
     "execution_count": 13,
     "metadata": {},
     "output_type": "execute_result"
    }
   ],
   "source": [
    "import numpy as np\n",
    "pipe = Pipe(funcs=[np.sqrt, (lambda x: x**5), np.log])\n",
    "pipe.run([1,2,3])"
   ]
  },
  {
   "cell_type": "code",
   "execution_count": null,
   "id": "c3b5538c",
   "metadata": {},
   "outputs": [
    {
     "name": "stdout",
     "output_type": "stream",
     "text": [
      "5.000343322753906\n"
     ]
    }
   ],
   "source": [
    "import time\n",
    "class Timer:\n",
    "    def __enter__(self):\n",
    "        self.start = time.time()\n",
    "    \n",
    "    def __exit__(self, *args):\n",
    "        end = time.time()\n",
    "        print(\"{elapsed}\".format(elapsed=end-self.start))\n",
    "\n",
    "with Timer():\n",
    "    time.sleep(5)"
   ]
  },
  {
   "cell_type": "code",
   "execution_count": 25,
   "id": "a1a16e55",
   "metadata": {},
   "outputs": [
    {
     "name": "stdout",
     "output_type": "stream",
     "text": [
      "true\n",
      "test\n",
      "false\n",
      "tost\n",
      "true\n",
      "test\n"
     ]
    }
   ],
   "source": [
    "import os\n",
    "os.environ['DEBUG'] = 'true'\n",
    "os.environ['API_KEY'] = 'test'\n",
    "class TempEnv:\n",
    "    def __init__(self, **kwargs):\n",
    "        self.env_vars = kwargs\n",
    "        self.old_vars = {}\n",
    "\n",
    "    def __enter__(self):\n",
    "        for key, value in self.env_vars.items():\n",
    "            self.old_vars[key]=os.getenv(key)\n",
    "            os.environ[key] = value\n",
    "\n",
    "    def __exit__(self, *args):\n",
    "        for key, value in self.old_vars.items():\n",
    "            if value:\n",
    "                os.environ[key]=value\n",
    "            else:\n",
    "                os.environ.pop(key, None)\n",
    "\n",
    "print(os.environ['DEBUG'])\n",
    "print(os.environ['API_KEY'])\n",
    "with TempEnv(DEBUG='false', API_KEY='tost'):\n",
    "    print(os.environ['DEBUG'])\n",
    "    print(os.environ['API_KEY'])\n",
    "\n",
    "print(os.environ['DEBUG'])\n",
    "print(os.environ['API_KEY'])"
   ]
  },
  {
   "cell_type": "code",
   "execution_count": null,
   "id": "5330f8d8",
   "metadata": {},
   "outputs": [],
   "source": [
    "from typing import Any, Dict\n",
    "class Config:\n",
    "    _instance = None\n",
    "    \n",
    "    def __init__(self):\n",
    "        self.settings: Dict[str, Any] = {\"debug\": False, \"api_url\": \"prod.com\"}\n",
    "    \n",
    "    def __new__(cls):\n",
    "        if cls._instance is None:\n",
    "            cls._instance = super().__new__(cls)\n",
    "        return cls._instance\n",
    "\n",
    "config = Config()\n"
   ]
  },
  {
   "cell_type": "code",
   "execution_count": null,
   "id": "15e963eb",
   "metadata": {},
   "outputs": [
    {
     "name": "stdout",
     "output_type": "stream",
     "text": [
      "[INFO] Normal message\n",
      "[DEBUG] Debug info\n",
      "[INFO] Back to normal\n"
     ]
    }
   ],
   "source": [
    "class Logger:\n",
    "    _instance = None\n",
    "\n",
    "    def __init__(self):\n",
    "        self.level:str = \"\"\n",
    "    \n",
    "    def __new__(cls):\n",
    "        if cls._instance is None:\n",
    "            cls._instance = super().__new__(cls)\n",
    "            cls._instance.level = \"INFO\"\n",
    "        return cls._instance\n",
    "    \n",
    "    def log(self, msg):\n",
    "        print(f\"[{self.level}] {msg}\")\n",
    "\n",
    "class TempLogLevel:\n",
    "    def __init__(self, level):\n",
    "        self.temp_level = level\n",
    "        self.logger = Logger()\n",
    "    \n",
    "    def __enter__(self):\n",
    "        self.old_level = self.logger.level\n",
    "        self.logger.level = self.temp_level\n",
    "        return self.logger\n",
    "    \n",
    "    def __exit__(self, *args):\n",
    "        self.logger.level = self.old_level\n",
    "\n",
    "# Usage:\n",
    "logger = Logger()\n",
    "logger.log(\"Normal message\")  # [INFO] Normal message\n",
    "\n",
    "with TempLogLevel(\"DEBUG\"):\n",
    "    logger.log(\"Debug info\")   # [DEBUG] Debug info\n",
    "\n",
    "logger.log(\"Back to normal\") # [INFO] Back to normal\n"
   ]
  },
  {
   "cell_type": "code",
   "execution_count": null,
   "id": "1273d0dd",
   "metadata": {},
   "outputs": [],
   "source": []
  }
 ],
 "metadata": {
  "kernelspec": {
   "display_name": "math",
   "language": "python",
   "name": "python3"
  },
  "language_info": {
   "codemirror_mode": {
    "name": "ipython",
    "version": 3
   },
   "file_extension": ".py",
   "mimetype": "text/x-python",
   "name": "python",
   "nbconvert_exporter": "python",
   "pygments_lexer": "ipython3",
   "version": "3.12.9"
  }
 },
 "nbformat": 4,
 "nbformat_minor": 5
}
